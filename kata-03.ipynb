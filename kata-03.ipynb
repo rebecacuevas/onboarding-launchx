{
 "cells": [
  {
   "cell_type": "markdown",
   "metadata": {},
   "source": [
    "# Kata 3"
   ]
  },
  {
   "cell_type": "code",
   "execution_count": 1,
   "metadata": {},
   "outputs": [
    {
     "name": "stdout",
     "output_type": "stream",
     "text": [
      "¡Alerta! Activar sistema de defensa antiasteroides\n"
     ]
    }
   ],
   "source": [
    "velocidadAsteroide = 49\n",
    "\n",
    "if velocidadAsteroide > 25:\n",
    "    print(\"¡Alerta! Activar sistema de defensa antiasteroides\")\n",
    "else:\n",
    "    print(\"No hay amenaza de asteroides\")\n"
   ]
  },
  {
   "cell_type": "code",
   "execution_count": 10,
   "metadata": {},
   "outputs": [
    {
     "name": "stdout",
     "output_type": "stream",
     "text": [
      "Los habitantes de la Tierra no podrán ver la entrada del asteroide a la atmósfera\n"
     ]
    }
   ],
   "source": [
    "asteroideProximo = 19\n",
    "\n",
    "if asteroideProximo < 20:\n",
    "    print(\"Los habitantes de la Tierra no podrán ver la entrada del asteroide a la atmósfera\")\n",
    "elif asteroideProximo >= 20:\n",
    "    print(\"¡Estimados terricolas! Nos complace informarles que tendremos un avistamiento de asteroide\")\n",
    "else:\n",
    "    print(\"Fuera del rango de avistamiento recreativo de asteroides\")"
   ]
  },
  {
   "cell_type": "code",
   "execution_count": 16,
   "metadata": {},
   "outputs": [
    {
     "name": "stdout",
     "output_type": "stream",
     "text": [
      "Valores fuera de rango\n"
     ]
    }
   ],
   "source": [
    "# tamañoAsteroide < 25 metros and velocidadAsteroide >= 20 km/s, se queman al entrar a la atmósfera y produce un rayo de luz\n",
    "# tamañoAsteroide > 25 metros and tamañoAsteroide < 1000 metros, causa daño\n",
    "\n",
    "tamañoAsteroide = 500\n",
    "velocidadAsteroide = 50\n",
    "\n",
    "if tamañoAsteroide < 25:\n",
    "    if velocidadAsteroide >= 20 and velocidadAsteroide < 25:\n",
    "        print(\"El asteroide se desintegrará a medida que entre a la atmósfera y es probable que produzca un rayo de luz visible para los habitantes\")\n",
    "elif tamañoAsteroide > 25 and tamañoAsteroide < 1000:\n",
    "    print(\"El asteroide causará daños, activar sistema de alerta\")\n",
    "else:\n",
    "    print(\"Valores fuera de rango\")\n",
    "\n",
    "\n",
    "\n"
   ]
  }
 ],
 "metadata": {
  "interpreter": {
   "hash": "2be5faf79681da6f2a61fdfdd5405d65d042280f7fba6178067603e3a2925119"
  },
  "kernelspec": {
   "display_name": "Python 3.10.0 64-bit",
   "language": "python",
   "name": "python3"
  },
  "language_info": {
   "codemirror_mode": {
    "name": "ipython",
    "version": 3
   },
   "file_extension": ".py",
   "mimetype": "text/x-python",
   "name": "python",
   "nbconvert_exporter": "python",
   "pygments_lexer": "ipython3",
   "version": "3.10.0"
  },
  "orig_nbformat": 4
 },
 "nbformat": 4,
 "nbformat_minor": 2
}
