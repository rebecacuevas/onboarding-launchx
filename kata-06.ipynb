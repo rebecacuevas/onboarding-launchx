{
 "cells": [
  {
   "cell_type": "markdown",
   "metadata": {},
   "source": [
    "# Listas "
   ]
  },
  {
   "cell_type": "code",
   "execution_count": 13,
   "metadata": {},
   "outputs": [
    {
     "name": "stdout",
     "output_type": "stream",
     "text": [
      "['Mercurio', 'Venus', 'Tierra', 'Marte', 'Júpiter', 'Saturno', 'Urano', 'Neptuno']\n",
      "Durante un tiempo se dijo que Plutón no clasificaba como planeta, por lo que el Sistema Solar quedó con 8 planetas de manera oficial\n"
     ]
    }
   ],
   "source": [
    "# Crear variable\n",
    "planets = ['Mercurio', 'Venus', 'Tierra','Marte', 'Júpiter', 'Saturno', 'Urano','Neptuno']\n",
    "print(planets)\n",
    "\n",
    "# Mostrar número de planetas sin Plutón\n",
    "numeroPlanetasOficial = len(planets)\n",
    "print(\"Durante un tiempo se dijo que Plutón no clasificaba como planeta, por lo que el Sistema Solar quedó con\", numeroPlanetasOficial, \"planetas de manera oficial\")"
   ]
  },
  {
   "cell_type": "code",
   "execution_count": 15,
   "metadata": {},
   "outputs": [
    {
     "name": "stdout",
     "output_type": "stream",
     "text": [
      "['Mercurio', 'Venus', 'Tierra', 'Marte', 'Júpiter', 'Saturno', 'Urano', 'Neptuno', 'Plutón']\n"
     ]
    }
   ],
   "source": [
    "# Agregar a Plutón a la lista\n",
    "planets.append('Plutón')\n",
    "print(planets)"
   ]
  },
  {
   "cell_type": "code",
   "execution_count": 26,
   "metadata": {},
   "outputs": [
    {
     "name": "stdout",
     "output_type": "stream",
     "text": [
      "Realmente en el Sistema Solar hay 9 planetas\n",
      "Plutón es el último planeta del Sistem Solar\n"
     ]
    }
   ],
   "source": [
    "# Mostrar el número de planetas\n",
    "numeroPlanetas = len(planets)\n",
    "print(\"Realmente en el Sistema Solar hay\", numeroPlanetas, \"planetas\")\n",
    "\n",
    "# Mostrar el último planeta de la lista\n",
    "print(planets[-1], \"es el último planeta del Sistem Solar\")"
   ]
  },
  {
   "cell_type": "markdown",
   "metadata": {},
   "source": [
    "# Trabajar con datos de una lista"
   ]
  },
  {
   "cell_type": "code",
   "execution_count": 32,
   "metadata": {},
   "outputs": [
    {
     "name": "stdout",
     "output_type": "stream",
     "text": [
      "Tierra\n",
      "2\n",
      "Los planetas más cercanos al Sol antes de Tierra son\n",
      "['Mercurio', 'Venus']\n",
      "Los planetas más lejanos al Sol después de Tierra son\n",
      "['Marte', 'Júpiter', 'Saturno', 'Neptuno']\n"
     ]
    }
   ],
   "source": [
    "# Crear lista de planetas\n",
    "planetas = ['Mercurio', 'Venus', 'Tierra', 'Marte', 'Júpiter', 'Saturno', 'Neptuno']\n",
    "\n",
    "# Pedir al usuario el nombre de un planeta\n",
    "# Debe iniciar con mayúscula\n",
    "\n",
    "planetaUsuario = input(\"¿A qué planeta te gustaría viajar, guerrero intergaláctico? Recuerda comenzar con mayúscula\")\n",
    "print(planetaUsuario)\n",
    "\n",
    "# Obtener index del planeta del usuario \n",
    "indexPlanetaUsuario = planetas.index(planetaUsuario)\n",
    "print(indexPlanetaUsuario)\n",
    "\n",
    "# Mostrar planetas más cercanos al Sol, en referencia al del usuario \n",
    "print(\"Los planetas más cercanos al Sol antes de \" + planetaUsuario + \" son\")\n",
    "print(planetas[0:indexPlanetaUsuario])\n",
    "\n",
    "# Mostrar planetas más alejados al Sol, en referencia al del usuario \n",
    "print(\"Los planetas más lejanos al Sol después de \" + planetaUsuario + \" son\")\n",
    "print(planetas[indexPlanetaUsuario + 1:])"
   ]
  }
 ],
 "metadata": {
  "interpreter": {
   "hash": "2be5faf79681da6f2a61fdfdd5405d65d042280f7fba6178067603e3a2925119"
  },
  "kernelspec": {
   "display_name": "Python 3.10.0 64-bit",
   "language": "python",
   "name": "python3"
  },
  "language_info": {
   "codemirror_mode": {
    "name": "ipython",
    "version": 3
   },
   "file_extension": ".py",
   "mimetype": "text/x-python",
   "name": "python",
   "nbconvert_exporter": "python",
   "pygments_lexer": "ipython3",
   "version": "3.10.0"
  },
  "orig_nbformat": 4
 },
 "nbformat": 4,
 "nbformat_minor": 2
}
