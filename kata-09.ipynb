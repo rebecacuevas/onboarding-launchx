{
 "cells": [
  {
   "cell_type": "markdown",
   "metadata": {},
   "source": [
    "# Funciones"
   ]
  },
  {
   "cell_type": "code",
   "execution_count": 55,
   "metadata": {},
   "outputs": [],
   "source": [
    "# Crear una función para leer 3 tanques de combustible\n",
    "# Mostrar su promedio\n",
    "\n",
    "def gas(tanque01, tanque02, tanque03):\n",
    "    #tanque01 = input('¿Cuántos litros de combustible tiene el tanque uno?')\n",
    "    #tanque02 = input('¿Cuántos litros de combustible tiene el tanque dos?')\n",
    "    #tanque03 = input('¿Cuántos litros de combustible tiene el tanque tres?')\n",
    "\n",
    "    # print(tanque01, tanque02, tanque03)\n",
    "\n",
    "    combustible_total = int(tanque01) + int(tanque02) + int(tanque03)\n",
    "    # print(combustible_total)\n",
    "\n",
    "    promedio = combustible_total / 3 \n",
    "    # print(promedio_combustible)\n",
    "\n",
    "    return tanque01, tanque02, tanque03"
   ]
  },
  {
   "cell_type": "code",
   "execution_count": 45,
   "metadata": {},
   "outputs": [
    {
     "name": "stdout",
     "output_type": "stream",
     "text": [
      "(32, 53, 535)\n"
     ]
    }
   ],
   "source": [
    "# Mandar llamar función para generar el reporte print \n",
    "print(gas(32, 53, 535))"
   ]
  },
  {
   "cell_type": "code",
   "execution_count": 52,
   "metadata": {},
   "outputs": [
    {
     "name": "stdout",
     "output_type": "stream",
     "text": [
      "32.333333333333336\n"
     ]
    }
   ],
   "source": [
    "# Crear función promedio \n",
    "def promedio(funcion_gas):\n",
    "    combustible_total = sum(funcion_gas)\n",
    "    tanques = len(funcion_gas)\n",
    "    return combustible_total / tanques\n",
    "    \n",
    "print(promedio(gas(13, 42, 42)))\n",
    "    "
   ]
  },
  {
   "cell_type": "code",
   "execution_count": 54,
   "metadata": {},
   "outputs": [
    {
     "data": {
      "text/plain": [
       "(32, 42, 635, 236.33333333333334)"
      ]
     },
     "execution_count": 54,
     "metadata": {},
     "output_type": "execute_result"
    }
   ],
   "source": [
    "# Actualizar la función \n",
    "def gas(tanque01, tanque02, tanque03):\n",
    "\n",
    "    combustible_total = int(tanque01) + int(tanque02) + int(tanque03)\n",
    "\n",
    "    promedio = combustible_total / 3 \n",
    "\n",
    "    return tanque01, tanque02, tanque03, promedio\n",
    "\n",
    "# Mandar a llamar la función \n",
    "gas(32, 42, 635)"
   ]
  },
  {
   "cell_type": "markdown",
   "metadata": {},
   "source": [
    "# Argumentos de palabra clave"
   ]
  },
  {
   "cell_type": "code",
   "execution_count": 58,
   "metadata": {},
   "outputs": [
    {
     "name": "stdout",
     "output_type": "stream",
     "text": [
      "Destino: Marte, Tiempo total: 15, Combustible disponible: 18779\n"
     ]
    }
   ],
   "source": [
    "def reporte_mision(destino, prelanzamiento, tiempo_vuelo, tanque_externo, tanque_interno):\n",
    "    tiempo_mision = int(prelanzamiento) + int(tiempo_vuelo)\n",
    "    total_combustible = int(tanque_externo) + int(tanque_interno)\n",
    "    print(f'Destino: {destino}, Tiempo total: {tiempo_mision}, Combustible disponible: {total_combustible}')\n",
    "\n",
    "reporte_mision('Marte', 10.00, 5.00, 13424, 5355)"
   ]
  },
  {
   "cell_type": "code",
   "execution_count": 66,
   "metadata": {},
   "outputs": [
    {
     "name": "stdout",
     "output_type": "stream",
     "text": [
      "Destino: Marte, Tiempo total de la misión: 115, Reservas disponibles de combustible: 400000\n"
     ]
    }
   ],
   "source": [
    "def mision_espacial(destino, *minutos, **combustible):\n",
    "    print(f'Destino: {destino}, Tiempo total de la misión: {sum(minutos)}, Reservas disponibles de combustible: {sum(combustible.values())}')\n",
    "\n",
    "mision_espacial(\"Marte\", 10, 5, 100, externo=300000, interno=100000)\n"
   ]
  },
  {
   "cell_type": "code",
   "execution_count": 70,
   "metadata": {},
   "outputs": [
    {
     "name": "stdout",
     "output_type": "stream",
     "text": [
      "Destino: Marte, Tiempo total de la misión: 115, Reservas disponibles de combustible: 400000\n",
      "externo 300000\n",
      "interno 100000\n"
     ]
    }
   ],
   "source": [
    "def mision_espacial(destino, *minutos, **combustible):\n",
    "    print(f'Destino: {destino}, Tiempo total de la misión: {sum(minutos)}, Reservas disponibles de combustible: {sum(combustible.values())}')\n",
    "\n",
    "    for tanques_combustible, litros in combustible.items():\n",
    "        print(tanques_combustible, litros)\n",
    "        \n",
    "mision_espacial(\"Marte\", 10, 5, 100, externo=300000, interno=100000)"
   ]
  }
 ],
 "metadata": {
  "interpreter": {
   "hash": "2be5faf79681da6f2a61fdfdd5405d65d042280f7fba6178067603e3a2925119"
  },
  "kernelspec": {
   "display_name": "Python 3.10.0 64-bit",
   "language": "python",
   "name": "python3"
  },
  "language_info": {
   "codemirror_mode": {
    "name": "ipython",
    "version": 3
   },
   "file_extension": ".py",
   "mimetype": "text/x-python",
   "name": "python",
   "nbconvert_exporter": "python",
   "pygments_lexer": "ipython3",
   "version": "3.10.0"
  },
  "orig_nbformat": 4
 },
 "nbformat": 4,
 "nbformat_minor": 2
}
