{
 "cells": [
  {
   "cell_type": "markdown",
   "metadata": {},
   "source": [
    "# Operadores artiméticos"
   ]
  },
  {
   "cell_type": "code",
   "execution_count": 7,
   "metadata": {},
   "outputs": [
    {
     "name": "stdout",
     "output_type": "stream",
     "text": [
      "La distancia entre Júpiter y la Tierra es de 628949330 kilómetros\n",
      "La distancia entre Júpiter y la Tierra es de 390577533.93 millas\n"
     ]
    }
   ],
   "source": [
    "# Calcular distancia entre Júpiter y la Tierra\n",
    "Tierra = 149597870\n",
    "Jupiter = 778547200\n",
    "\n",
    "distancia = Jupiter - Tierra\n",
    "print(\"La distancia entre Júpiter y la Tierra es de \" + str(distancia) + \" kilómetros\")\n",
    "\n",
    "distanciaMillas = distancia * 0.621\n",
    "print(\"La distancia entre Júpiter y la Tierra es de \" + str(distanciaMillas) + \" millas\")"
   ]
  },
  {
   "cell_type": "code",
   "execution_count": 16,
   "metadata": {},
   "outputs": [
    {
     "name": "stdout",
     "output_type": "stream",
     "text": [
      "149600000\n",
      "227900000\n"
     ]
    }
   ],
   "source": [
    "# Almacenar entradas del usuario \n",
    "SolTierra = input(\"¿A qué distancia se encuentra la Tierra del Sol?\")\n",
    "print(SolTierra)\n",
    "\n",
    "SolMars = input(\"¿A qué distancia se encuentra Marte del Sol?\")\n",
    "print(SolMars)\n"
   ]
  },
  {
   "cell_type": "code",
   "execution_count": 22,
   "metadata": {},
   "outputs": [
    {
     "name": "stdout",
     "output_type": "stream",
     "text": [
      "<class 'int'>\n",
      "<class 'int'>\n",
      "78300000\n",
      "48624300.0\n"
     ]
    }
   ],
   "source": [
    "# Convertir a número\n",
    "TierraInt = int(SolTierra)\n",
    "print(type(TierraInt))\n",
    "\n",
    "MarsInt = int(SolMars)\n",
    "print(type(MarsInt))\n",
    "\n",
    "# Calcular distancia entre planetas\n",
    "distanciaInterplanetaria = abs(TierraInt - MarsInt)\n",
    "print(distanciaInterplanetaria)\n",
    "\n",
    "# Convertir kilómetros a millas\n",
    "distanciaInterplanetariaMillas = distanciaInterplanetaria * 0.621\n",
    "print(distanciaInterplanetariaMillas)"
   ]
  }
 ],
 "metadata": {
  "interpreter": {
   "hash": "2be5faf79681da6f2a61fdfdd5405d65d042280f7fba6178067603e3a2925119"
  },
  "kernelspec": {
   "display_name": "Python 3.10.0 64-bit",
   "language": "python",
   "name": "python3"
  },
  "language_info": {
   "codemirror_mode": {
    "name": "ipython",
    "version": 3
   },
   "file_extension": ".py",
   "mimetype": "text/x-python",
   "name": "python",
   "nbconvert_exporter": "python",
   "pygments_lexer": "ipython3",
   "version": "3.10.0"
  },
  "orig_nbformat": 4
 },
 "nbformat": 4,
 "nbformat_minor": 2
}
