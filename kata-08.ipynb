{
 "cells": [
  {
   "cell_type": "markdown",
   "metadata": {},
   "source": [
    "# Diccionarios"
   ]
  },
  {
   "cell_type": "code",
   "execution_count": 3,
   "metadata": {},
   "outputs": [],
   "source": [
    "# Crear un diccionario para almacenar información del planeta Marte\n",
    "\n",
    "planet = {\n",
    "    'name' : 'Mars',\n",
    "    'moons' : 2 \n",
    "}"
   ]
  },
  {
   "cell_type": "code",
   "execution_count": 4,
   "metadata": {},
   "outputs": [
    {
     "name": "stdout",
     "output_type": "stream",
     "text": [
      "Mars\n",
      "2\n"
     ]
    }
   ],
   "source": [
    "# Mostrar nombre del planeta y número de lunas que tiene\n",
    "print(planet.get('name'))\n",
    "print(planet.get('moons'))"
   ]
  },
  {
   "cell_type": "code",
   "execution_count": 5,
   "metadata": {},
   "outputs": [],
   "source": [
    "# Agregar nuevo valor 'circunferencia [km]'\n",
    "# El valor debe almacenar un diccionario con dos circunferencias [polar, equatorial]\n",
    "planet['circunferencia [km]'] = {\n",
    "    'polar' : 6752,\n",
    "    'ecuatorial' : 6792  \n",
    "}"
   ]
  },
  {
   "cell_type": "code",
   "execution_count": 6,
   "metadata": {},
   "outputs": [
    {
     "name": "stdout",
     "output_type": "stream",
     "text": [
      "{'name': 'Mars', 'moons': 2, 'circunferencia [km]': {'polar': 6752, 'ecuatorial': 6792}}\n"
     ]
    }
   ],
   "source": [
    "# Mostrar todos los valores del diccionario \n",
    "print(planet)"
   ]
  },
  {
   "cell_type": "code",
   "execution_count": 21,
   "metadata": {},
   "outputs": [
    {
     "name": "stdout",
     "output_type": "stream",
     "text": [
      "{'Mars'} {6752}\n"
     ]
    }
   ],
   "source": [
    "# Imprimir nombre del planeta con su circunferencia polar\n",
    "# print(planet['name'], ['circunferencia [km]', [f'{polar}']])\n",
    "\n",
    "print({planet['name']}, {planet['circunferencia [km]']['polar']})\n"
   ]
  },
  {
   "cell_type": "markdown",
   "metadata": {},
   "source": [
    "# Calcular valores"
   ]
  },
  {
   "cell_type": "code",
   "execution_count": 25,
   "metadata": {},
   "outputs": [],
   "source": [
    "# Diccionario de planetas y lunas\n",
    "\n",
    "# Value - Keys\n",
    "\n",
    "planet_moons = {\n",
    "    'Mercurio' : 0,\n",
    "    'Venus' : 0,\n",
    "    'Tierra' : 1,\n",
    "    'Marte' : 2,\n",
    "    'Jupiter' : 79,\n",
    "    'Saturno' : 82,\n",
    "    'Urano' : 27,\n",
    "    'Neptuno' : 14,\n",
    "    'Plutón' : 5,\n",
    "    'Haumea' : 2,\n",
    "    'Makemake' : 1,\n",
    "    'Eris' : 1\n",
    "}"
   ]
  },
  {
   "cell_type": "code",
   "execution_count": 39,
   "metadata": {},
   "outputs": [
    {
     "name": "stdout",
     "output_type": "stream",
     "text": [
      "[0, 0, 1, 2, 79, 82, 27, 14, 5, 2, 1, 1]\n",
      "['Mercurio', 'Venus', 'Tierra', 'Marte', 'Jupiter', 'Saturno', 'Urano', 'Neptuno', 'Plutón', 'Haumea', 'Makemake', 'Eris']\n",
      "12\n"
     ]
    }
   ],
   "source": [
    "# Determinar número de lunas\n",
    "\n",
    "# Almacenar el valor de values en una variable llamada moons\n",
    "# Almacenar el número de planetas en una variable llamada planets\n",
    "\n",
    "moons = list(planet_moons.values())\n",
    "print(moons)\n",
    "\n",
    "planets_name = list(planet_moons.keys())\n",
    "print(planets)\n",
    "\n",
    "planets = len(planets_name)\n",
    "print(planets)\n"
   ]
  },
  {
   "cell_type": "code",
   "execution_count": 40,
   "metadata": {},
   "outputs": [
    {
     "name": "stdout",
     "output_type": "stream",
     "text": [
      "214\n",
      "17.833333333333332\n"
     ]
    }
   ],
   "source": [
    "# Contar número de lunas \n",
    "\n",
    "# Iterar a través de moons y almacenar el total en una variable llamada total_moons\n",
    "# Calcular promedio dividiendo total_moons entre planets e imprime el resultado\n",
    "\n",
    "for i in moons:\n",
    "    total_moons = sum(moons)\n",
    "\n",
    "print(total_moons)\n",
    "\n",
    "moon_mean = total_moons / int(planets)\n",
    "print(moon_mean)\n"
   ]
  }
 ],
 "metadata": {
  "interpreter": {
   "hash": "2be5faf79681da6f2a61fdfdd5405d65d042280f7fba6178067603e3a2925119"
  },
  "kernelspec": {
   "display_name": "Python 3.10.0 64-bit",
   "language": "python",
   "name": "python3"
  },
  "language_info": {
   "codemirror_mode": {
    "name": "ipython",
    "version": 3
   },
   "file_extension": ".py",
   "mimetype": "text/x-python",
   "name": "python",
   "nbconvert_exporter": "python",
   "pygments_lexer": "ipython3",
   "version": "3.10.0"
  },
  "orig_nbformat": 4
 },
 "nbformat": 4,
 "nbformat_minor": 2
}
