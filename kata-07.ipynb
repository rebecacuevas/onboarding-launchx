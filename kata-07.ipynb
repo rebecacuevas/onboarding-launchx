{
 "cells": [
  {
   "cell_type": "markdown",
   "metadata": {},
   "source": [
    "# Ciclo while"
   ]
  },
  {
   "cell_type": "code",
   "execution_count": 20,
   "metadata": {},
   "outputs": [],
   "source": [
    "new_planet = input(\"¿Cuántos planetas conoces? Escribe tantos como puedas, recuerda usar espacios entre cada nombre. Cuando termines escribe la palabra done.\")\n",
    "planets = []"
   ]
  },
  {
   "cell_type": "code",
   "execution_count": 21,
   "metadata": {},
   "outputs": [],
   "source": [
    "# Ciclo while se ejecuta mientras new_planet sea diferente a 'done'\n",
    "# Comprobar si el usuario ha introducido un string diferente a 'done'\n",
    "# Si la condición se cumple, agregar el valor a la variable planets con .append()\n",
    "# Usar input para pedir un nuevo nombre de planeta o que escriba la palabra 'done' si ya ha terminado\n",
    "# Almacenar input en la variable new_planet\n",
    "\n",
    "while new_planet.lower() != 'done':\n",
    "    if new_planet:\n",
    "        planets.append(new_planet)\n",
    "        new_planet = input(\"Ingresa otro nombre o escribe done si finalizaste\")\n",
    "        # planet = slice(planets)"
   ]
  },
  {
   "cell_type": "markdown",
   "metadata": {},
   "source": [
    "# Ciclo for"
   ]
  },
  {
   "cell_type": "code",
   "execution_count": 22,
   "metadata": {},
   "outputs": [
    {
     "name": "stdout",
     "output_type": "stream",
     "text": [
      "marte saturno jupiter urano neptuno pluton\n",
      "venus tierra marte \n"
     ]
    }
   ],
   "source": [
    "for myPlanet in planets:\n",
    "    print(myPlanet)"
   ]
  }
 ],
 "metadata": {
  "interpreter": {
   "hash": "2be5faf79681da6f2a61fdfdd5405d65d042280f7fba6178067603e3a2925119"
  },
  "kernelspec": {
   "display_name": "Python 3.10.0 64-bit",
   "language": "python",
   "name": "python3"
  },
  "language_info": {
   "codemirror_mode": {
    "name": "ipython",
    "version": 3
   },
   "file_extension": ".py",
   "mimetype": "text/x-python",
   "name": "python",
   "nbconvert_exporter": "python",
   "pygments_lexer": "ipython3",
   "version": "3.10.0"
  },
  "orig_nbformat": 4
 },
 "nbformat": 4,
 "nbformat_minor": 2
}
